{
  "nbformat": 4,
  "nbformat_minor": 0,
  "metadata": {
    "colab": {
      "name": "kutuphane_katalogu.ipynb",
      "provenance": [],
      "authorship_tag": "ABX9TyPnjs0YqLbRlSNCStHMVpSh",
      "include_colab_link": true
    },
    "kernelspec": {
      "name": "python3",
      "display_name": "Python 3"
    }
  },
  "cells": [
    {
      "cell_type": "markdown",
      "metadata": {
        "id": "view-in-github",
        "colab_type": "text"
      },
      "source": [
        "<a href=\"https://colab.research.google.com/github/simgekaya/BBY162-2020/blob/master/kutuphane_katalogu.ipynb\" target=\"_parent\"><img src=\"https://colab.research.google.com/assets/colab-badge.svg\" alt=\"Open In Colab\"/></a>"
      ]
    },
    {
      "cell_type": "code",
      "metadata": {
        "id": "gkXzmPNZfsa8",
        "colab_type": "code",
        "outputId": "73cf7311-3f25-47dc-b772-7481ce9a55a8",
        "colab": {
          "base_uri": "https://localhost:8080/",
          "height": 202
        }
      },
      "source": [
        "from google.colab import drive\n",
        "drive.mount('/gdrive')\n",
        "print(\"***Kütüphane Kataloğuma Hoşgeldiniz!***\")\n",
        "\n",
        "dosya = \"/gdrive/My Drive/Python/veritabani.txt\"\n",
        "\n",
        "def kitaplarıListele():\n",
        "  x=open(dosya, \"r\")\n",
        "  print(x.read())\n",
        "  x.close()\n",
        "\n",
        "def kitapEkle():\n",
        "  print(\"*Kataloğa ekleme yapabilmek için kullanıcı adı ve şifrenizi girmelisiniz!*\")\n",
        "  kullanıcıAdi= \"katalog1\"\n",
        "  sifre= \"sifre1\"\n",
        "  girilenKulAdi= input(\"Kullanıcı adınızı giriniz: \")\n",
        "  girilenSifre= input(\"Şifrenizi giriniz: \")\n",
        "  if kullanıcıAdi == girilenKulAdi and sifre == girilenSifre :\n",
        "    print(\"Kataloğunuza kitap ekleyebilirsiniz.\")\n",
        "  x= open(dosya, \"a\")\n",
        "  eserAdı= input(\"Eser adını giriniz: \")\n",
        "  yazarAdı= input(\"Yazar adını giriniz: \")\n",
        "  yayınYılı= input(\"Yayın yılı bilgisini giriniz: \")\n",
        "  yayınYeri= input(\"Yayın yeri bilgisini giriniz: \")\n",
        "  yayınEvi= input(\"Yayın evi bilgisini giriniz: \")\n",
        "  ısbn= input(\"ISBN numarasını giriniz: \")\n",
        "  x.write(eserAdı+ \"|\"+ yazarAdı + \"|\" + yayınYılı + \"|\" + yayınYeri +\"|\"+ yayınEvi + \"|\"+ ısbn+ \"\\n\")\n",
        "  print(\"Bilgilerini girmiş olduğunuz kitap, kataloğa başarıyla eklenmiştir!\")\n",
        "  x.close()\n",
        "\n",
        "def veriSilme():\n",
        "  eminMi= input(\"Katalogda bulunan verileri silmek istediğinizden emin misiniz? ['e' veya 'h']\")\n",
        "  if eminMi == \"e\":\n",
        "    x= open(dosya, \"w\")\n",
        "  x.close()\n",
        "\n",
        "def Arama():\n",
        "  okunanVeri= []\n",
        "  x= open(dosya, \"r\")\n",
        "  for line in x.readlines():\n",
        "    okunanVeri.append(line)\n",
        "  print(okunanVeri)\n",
        "\n",
        "  print(\"Yazar adına göre arama yapmak için 'Y' yazınız!\")\n",
        "  print(\"Eser adına göre arama yapamk için 'E' yazınız!\")\n",
        "  print(\"Yayın yılına göre arama yapmak için 'YY' yazınız!\")\n",
        "  print(\"Yayın yerine göre arama yapmak için 'YY' yazınız!\")\n",
        "  print(\"Yayın evine göre arama yapmak için 'YE' yazınız!\")\n",
        "  print(\"ISBN numarasına göre arama yapmak için 'I' yazınız!\")\n",
        "  tercih= input(\"Arama tercihinizi belirtiniz: \")\n",
        "\n",
        "  aranacakKelime= input(\"Aramak istediğiniz kelimeyi giriniz: \")\n",
        "  \n",
        "  kayıtNo=0\n",
        "\n",
        "  for ara in okunanVeri:\n",
        "   if aranacakKelime in ara :\n",
        "    print(\"Aradığınız kelime kayıt numarası \" + str(kayıtNo)+ \"da var\")\n",
        "    print(okunanVeri[kayıtNo])\n",
        "  \n",
        "   kayıtNo+=1\n",
        "  x.close()\n",
        "   \n",
        "\n",
        "yapılacakİslem= 0\n",
        "while not yapılacakİslem ==3:\n",
        "\n",
        "  print(\"Yapmak istediğiniz işleme göre uygun bir sayı giriniz!\")\n",
        "  print(\"Yapmak istediğiniz işlem kitapları listelemek ise '1' yazınız!\")\n",
        "  print(\"Yapmak istediğiniz işlem kataloğa yeni bir kitap eklemek ise '2' yazınız!\")\n",
        "  print(\"Katalogdan çıkış yapmak için '3' yazınız!\") \n",
        "  print(\"Katalogdaki verileri silmek için '4' yazınız!\")\n",
        "  print(\"Katalogda bulunan bir veriyi aramak istiyorsanız '6' yazınız!\")\n",
        "\n",
        "\n",
        "  \n",
        "  yapılacakİslem= int(input(\"Yapmak istediğiniz işleme uygun sayıyı giriniz: \"))\n",
        "  if yapılacakİslem == 1:\n",
        "    kitaplarıListele()\n",
        "  elif yapılacakİslem == 2:\n",
        "    kitapEkle()\n",
        "  elif yapılacakİslem == 4:\n",
        "    veriSilme()\n",
        "  elif yapılacakİslem == 6:\n",
        "    Arama()\n",
        "  elif yapılacakİslem == 3:\n",
        "    break\n",
        "  else :\n",
        "    print(\"Lütfen sadece verilen sayılardan yararlanarak işlem yapınız!\")\n",
        "    continue"
      ],
      "execution_count": 0,
      "outputs": [
        {
          "output_type": "stream",
          "text": [
            "Drive already mounted at /gdrive; to attempt to forcibly remount, call drive.mount(\"/gdrive\", force_remount=True).\n",
            "***Kütüphane Kataloğuma Hoşgeldiniz!***\n",
            "Yapmak istediğiniz işleme göre uygun bir sayı giriniz!\n",
            "Yapmak istediğiniz işlem kitapları listelemek ise '1' yazınız!\n",
            "Yapmak istediğiniz işlem kataloğa yeni bir kitap eklemek ise '2' yazınız!\n",
            "Katalogdan çıkış yapmak için '3' yazınız!\n",
            "Katalogdaki verileri silmek için '4' yazınız!\n",
            "Katalogda bulunan bir veriyi aramak istiyorsanız '6' yazınız!\n"
          ],
          "name": "stdout"
        }
      ]
    }
  ]
}