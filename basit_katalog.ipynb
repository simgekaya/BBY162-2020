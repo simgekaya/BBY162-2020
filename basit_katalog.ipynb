{
  "nbformat": 4,
  "nbformat_minor": 0,
  "metadata": {
    "colab": {
      "name": "basit_katalog.ipynb",
      "provenance": [],
      "authorship_tag": "ABX9TyMMPhK7rtMcZulIagp9SGg7",
      "include_colab_link": true
    },
    "kernelspec": {
      "name": "python3",
      "display_name": "Python 3"
    }
  },
  "cells": [
    {
      "cell_type": "markdown",
      "metadata": {
        "id": "view-in-github",
        "colab_type": "text"
      },
      "source": [
        "<a href=\"https://colab.research.google.com/github/simgekaya/BBY162-2020/blob/master/basit_katalog.ipynb\" target=\"_parent\"><img src=\"https://colab.research.google.com/assets/colab-badge.svg\" alt=\"Open In Colab\"/></a>"
      ]
    },
    {
      "cell_type": "code",
      "metadata": {
        "id": "w-Lzxoi1EqZr",
        "colab_type": "code",
        "outputId": "0e8e560c-3b81-4ec5-e468-5f3a72e2a8c1",
        "colab": {
          "base_uri": "https://localhost:8080/",
          "height": 511
        }
      },
      "source": [
        "from google.colab import drive\n",
        "drive.mount('/gdrive')\n",
        "print(\"***Küçük Kitap Kataloğuma Hoşgeldiniz!***\")\n",
        "\n",
        "dosya = \"/gdrive/My Drive/Python/kitap_listesi.txt\"\n",
        "\n",
        "def kitaplarıListele():\n",
        "  x=open(dosya, \"r\")\n",
        "  print(x.read())\n",
        "  x.close()\n",
        "\n",
        "def kitapEkle():\n",
        "  print(\"*Kataloğa ekleme yapabilmek için kullanıcı adı ve şifrenizi girmelisiniz!*\")\n",
        "  kullanıcıAdi= \"katalog1\"\n",
        "  sifre= \"sifre1\"\n",
        "  girilenKulAdi= input(\"Kullanıcı adınızı giriniz: \")\n",
        "  girilenSifre= input(\"Şifrenizi giriniz: \")\n",
        "  if kullanıcıAdi == girilenKulAdi and sifre == girilenSifre :\n",
        "    print(\"Kataloğunuza kitap ekleyebilirsiniz.\")\n",
        "  x= open(dosya, \"a\")\n",
        "  eserAdı= input(\"Eser adını giriniz: \")\n",
        "  yazarAdı= input(\"Yazar adını giriniz: \")\n",
        "  yayınYılı= input(\"Yayın yılı bilgisini giriniz: \")\n",
        "  yayınYeri= input(\"Yayın yeri bilgisini giriniz: \")\n",
        "  yayınEvi= input(\"Yayın evi bilgisini giriniz: \")\n",
        "  ısbn= input(\"ISBN numarasını giriniz: \")\n",
        "  x.write(eserAdı+ \"|\"+ yazarAdı + \"|\" + yayınYılı + \"|\" + yayınYeri +\"|\"+ yayınEvi + \"|\"+ ısbn+ \"\\n\")\n",
        "  print(\"Bilgilerini girmiş olduğunuz kitap, kataloğa başarıyla eklenmiştir!\")\n",
        "  x.close()\n",
        "\n",
        "yapılacakİslem= 0\n",
        "while not yapılacakİslem ==3:\n",
        "\n",
        "  print(\"Yapmak istediğiniz işleme göre uygun bir sayı giriniz!\")\n",
        "  print(\"Yapmak istediğiniz işlem kitapları listelemek ise '1' yazınız!\")\n",
        "  print(\"Yapmak istediğiniz işlem kataloğa yeni bir kitap eklemek ise '2' yazınız!\")\n",
        "  print(\"Katalogdan çıkış yapmak için '3' yazınız!\") \n",
        "\n",
        "  \n",
        "  yapılacakİslem= int(input(\"Yapmak istediğiniz işleme uygun sayıyı giriniz: \"))\n",
        "  if yapılacakİslem == 1:\n",
        "    kitaplarıListele()\n",
        "  elif yapılacakİslem == 2:\n",
        "    kitapEkle()\n",
        "  elif yapılacakİslem == 3:\n",
        "    break\n",
        "  else :\n",
        "    print(\"Lütfen sadece verilen sayılardan yararlanarak işlem yapınız!\")\n",
        "    continue\n",
        "\n",
        "\n",
        "\n"
      ],
      "execution_count": 0,
      "outputs": [
        {
          "output_type": "stream",
          "text": [
            "Drive already mounted at /gdrive; to attempt to forcibly remount, call drive.mount(\"/gdrive\", force_remount=True).\n",
            "***Küçük Kitap Kataloğuma Hoşgeldiniz!***\n",
            "Yapmak istediğiniz işleme göre uygun bir sayı giriniz!\n",
            "Yapmak istediğiniz işlem kitapları listelemek ise '1' yazınız!\n",
            "Yapmak istediğiniz işlem kataloğa yeni bir kitap eklemek ise '2' yazınız!\n",
            "Katalogdan çıkış yapmak için '3' yazınız!\n",
            "Yapmak istediğiniz işleme uygun sayıyı giriniz: 1\n",
            "eserAdı| yazarAdı| yayınYılı| yayınYeri| Yayınevi| ISBN\n",
            "Suç ve Ceza| Dostoyevski| 2019| Ankara| Panama Yayıncılık| 9786054401963\n",
            "Otomatik Portakal| Anthony Burgess| 2019| İstanbul| Türkiye İş Bankası| Kültür Yayınları| 9786052957929\n",
            "Dava| Franz Kafka| 2019| İstanbul| Kırmızıkedi Yayınevi| 9786052980057\n",
            "İçimdeki Müzik| Sharon M. Draper| 2019| İstanbul| Genç Timaş| 9786050822038\n",
            "İnsan İnsana| Doğan Cüceloğlu| 2019| İstanbul| Remzi Kitabevi| 9789751402967\n",
            "Babaya Mektup| Franz Kafka| 2018| İstanbul| İndigo Kitap| 9786052361658\n",
            "Savaş Sanatı| Sun Tzu| 2017| İstanbul| İndigo Kitap| 9786052361290\n",
            "Kendine Ait Bir Oda| Virginia Woolf| 2017| İstanbul| İndigo Kitap| 9786059144971\n",
            "Genç Werther'in Acıları| Goethe| 2017| İstanbul| İndigo Kitap| 9786059144964Kendine Ait Bir Oda|Virginia Woolf|2017|İstanbul|İndigo Kitap|9786059144971\n",
            "Martı|Richard Bach|2018|İstanbul|Epsilon|9786051735054\n",
            "Aile Hayatı|Akhil Sharma|2015|İstanbul|Aprıl|9786055162498\n",
            "Aşk ve Gurur|Jane Austen|2007|İstanbul|Amfora|9789759992491\n",
            "\n",
            "Yapmak istediğiniz işleme göre uygun bir sayı giriniz!\n",
            "Yapmak istediğiniz işlem kitapları listelemek ise '1' yazınız!\n",
            "Yapmak istediğiniz işlem kataloğa yeni bir kitap eklemek ise '2' yazınız!\n",
            "Katalogdan çıkış yapmak için '3' yazınız!\n"
          ],
          "name": "stdout"
        }
      ]
    }
  ]
}