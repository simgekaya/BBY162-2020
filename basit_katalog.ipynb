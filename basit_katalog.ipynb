{
  "nbformat": 4,
  "nbformat_minor": 0,
  "metadata": {
    "colab": {
      "name": "basit_katalog.ipynb",
      "provenance": [],
      "authorship_tag": "ABX9TyPFyw6wfFQrXp8QtJey3P5b",
      "include_colab_link": true
    },
    "kernelspec": {
      "name": "python3",
      "display_name": "Python 3"
    }
  },
  "cells": [
    {
      "cell_type": "markdown",
      "metadata": {
        "id": "view-in-github",
        "colab_type": "text"
      },
      "source": [
        "<a href=\"https://colab.research.google.com/github/simgekaya/BBY162-2020/blob/master/basit_katalog.ipynb\" target=\"_parent\"><img src=\"https://colab.research.google.com/assets/colab-badge.svg\" alt=\"Open In Colab\"/></a>"
      ]
    },
    {
      "cell_type": "code",
      "metadata": {
        "id": "wxmOk267FDgk",
        "colab_type": "code",
        "outputId": "27d5d2f3-a63a-4741-b2dd-52610c302a2a",
        "colab": {
          "base_uri": "https://localhost:8080/",
          "height": 256
        }
      },
      "source": [
        "from google.colab import drive\n",
        "drive.mount('/gdrive')\n",
        "\n",
        "dosya = \"/gdrive/My Drive/Python/kitap_listesi.txt\"\n",
        "x= open(dosya, \"r\")\n",
        "\n",
        "for line in x.readlines():\n",
        "  a= line.split(\"|\")\n",
        "  print(a)\n",
        "\n",
        "yeni = input(\"Yeni bir kitap girişi yapmak istiyor musunuz? ['e' veya 'h']: \")\n",
        "if yeni == 'e':\n",
        "  z = open(dosya, 'a')\n",
        "  z.write(yeniKitap+\"\\n\")\n",
        "  yeniKitap= input(\"Kitap bilgilerini giriniz: \")\n",
        "  \n",
        "  t= yeniKitap.split(\"|\")\n",
        "  print(t)\n",
        "  \n",
        "x.close()"
      ],
      "execution_count": 0,
      "outputs": [
        {
          "output_type": "stream",
          "text": [
            "Drive already mounted at /gdrive; to attempt to forcibly remount, call drive.mount(\"/gdrive\", force_remount=True).\n",
            "['eserAdı', ' yazarAdı', ' yayınYılı', ' yayınYeri', ' Yayınevi', ' ISBN\\n']\n",
            "['Suç ve Ceza', ' Dostoyevski', ' 2019', ' Ankara', ' Panama Yayıncılık', ' 9786054401963\\n']\n",
            "['Otomatik Portakal', ' Anthony Burgess', ' 2019', ' İstanbul', ' Türkiye İş Bankası', ' Kültür Yayınları', ' 9786052957929\\n']\n",
            "['Dava', ' Franz Kafka', ' 2019', ' İstanbul', ' Kırmızıkedi Yayınevi', ' 9786052980057\\n']\n",
            "['İçimdeki Müzik', ' Sharon M. Draper', ' 2019', ' İstanbul', ' Genç Timaş', ' 9786050822038\\n']\n",
            "['İnsan İnsana', ' Doğan Cüceloğlu', ' 2019', ' İstanbul', ' Remzi Kitabevi', ' 9789751402967\\n']\n",
            "['Babaya Mektup', ' Franz Kafka', ' 2018', ' İstanbul', ' İndigo Kitap', ' 9786052361658\\n']\n",
            "['Savaş Sanatı', ' Sun Tzu', ' 2017', ' İstanbul', ' İndigo Kitap', ' 9786052361290\\n']\n",
            "['Kendine Ait Bir Oda', ' Virginia Woolf', ' 2017', ' İstanbul', ' İndigo Kitap', ' 9786059144971\\n']\n",
            "[\"Genç Werther'in Acıları\", ' Goethe', ' 2017', ' İstanbul', ' İndigo Kitap', ' 9786059144964']\n"
          ],
          "name": "stdout"
        }
      ]
    }
  ]
}